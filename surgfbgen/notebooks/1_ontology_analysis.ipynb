{
 "cells": [
  {
   "cell_type": "code",
   "execution_count": 2,
   "id": "c3be31ff",
   "metadata": {},
   "outputs": [],
   "source": [
    "import pandas as pd"
   ]
  },
  {
   "cell_type": "code",
   "execution_count": 3,
   "id": "40b1e15f",
   "metadata": {},
   "outputs": [
    {
     "name": "stdout",
     "output_type": "stream",
     "text": [
      "(344, 6)\n",
      "(875, 6)\n",
      "(512, 6)\n",
      "1731\n"
     ]
    }
   ],
   "source": [
    "# annotations_df = pd.read_csv('/home/firdavs/surgery/surgical_fb_generation/SurgFBGen/data/iat/full_annotations_df.csv')\n",
    "annotations_df = pd.read_csv('/home/firdavs/surgery/surgical_fb_generation/SurgFBGen/data/iat_predictor_splits/full.csv')\n",
    "\n",
    "for col in annotations_df.columns:\n",
    "    if 'extraction' in col:\n",
    "        annotations_df[col] = annotations_df[col].apply(lambda x: x.replace('[', '').replace(']', '').split(',')[0])\n",
    "\n",
    "# {I, A, T} extraction to cluster\n",
    "i_e2c = annotations_df[['dialogue', 'timestamp', 'case', 'cvid', 'instrument', 'instrument-extraction']].replace('NONE', None).dropna()\n",
    "a_e2c = annotations_df[['dialogue', 'timestamp', 'case', 'cvid', 'action', 'action-extraction']].replace('NONE', None).dropna()\n",
    "t_e2c = annotations_df[['dialogue', 'timestamp', 'case', 'cvid', 'tissue', 'tissue-extraction']].replace('NONE', None).dropna()\n",
    "\n",
    "print(i_e2c.shape)\n",
    "print(a_e2c.shape)\n",
    "print(t_e2c.shape)\n",
    "print(i_e2c.shape[0] + a_e2c.shape[0] + t_e2c.shape[0])"
   ]
  },
  {
   "cell_type": "code",
   "execution_count": 7,
   "id": "c60abb8d",
   "metadata": {},
   "outputs": [],
   "source": [
    "annotations_df['num_not_nan'] = annotations_df.apply(lambda row: 1*(row['instrument'] != 'NONE') + 1*(row['action'] != 'NONE') + 1*(row['tissue'] != 'NONE'), axis=1)"
   ]
  },
  {
   "cell_type": "code",
   "execution_count": 12,
   "id": "f2af98e8",
   "metadata": {},
   "outputs": [
    {
     "data": {
      "text/plain": [
       "(114, 1107, 251)"
      ]
     },
     "execution_count": 12,
     "metadata": {},
     "output_type": "execute_result"
    }
   ],
   "source": [
    "annotations_df['instrument-extraction'].nunique(), annotations_df['action-extraction'].nunique(), annotations_df['tissue-extraction'].nunique()"
   ]
  },
  {
   "cell_type": "code",
   "execution_count": 13,
   "id": "85231685",
   "metadata": {},
   "outputs": [
    {
     "data": {
      "text/plain": [
       "(22, 32, 20)"
      ]
     },
     "execution_count": 13,
     "metadata": {},
     "output_type": "execute_result"
    }
   ],
   "source": [
    "annotations_df['instrument'].nunique(), annotations_df['action'].nunique(), annotations_df['tissue'].nunique()"
   ]
  },
  {
   "cell_type": "code",
   "execution_count": 8,
   "id": "3c46f772",
   "metadata": {},
   "outputs": [
    {
     "data": {
      "text/plain": [
       "num_not_nan\n",
       "0    2389\n",
       "1    1405\n",
       "2     377\n",
       "3      39\n",
       "Name: count, dtype: int64"
      ]
     },
     "execution_count": 8,
     "metadata": {},
     "output_type": "execute_result"
    }
   ],
   "source": [
    "annotations_df['num_not_nan'].value_counts()"
   ]
  },
  {
   "cell_type": "code",
   "execution_count": 11,
   "id": "dd985e15",
   "metadata": {},
   "outputs": [
    {
     "data": {
      "text/plain": [
       "416"
      ]
     },
     "execution_count": 11,
     "metadata": {},
     "output_type": "execute_result"
    }
   ],
   "source": [
    "377+39"
   ]
  },
  {
   "cell_type": "code",
   "execution_count": 4,
   "id": "b685bed7",
   "metadata": {},
   "outputs": [
    {
     "data": {
      "text/html": [
       "<div>\n",
       "<style scoped>\n",
       "    .dataframe tbody tr th:only-of-type {\n",
       "        vertical-align: middle;\n",
       "    }\n",
       "\n",
       "    .dataframe tbody tr th {\n",
       "        vertical-align: top;\n",
       "    }\n",
       "\n",
       "    .dataframe thead th {\n",
       "        text-align: right;\n",
       "    }\n",
       "</style>\n",
       "<table border=\"1\" class=\"dataframe\">\n",
       "  <thead>\n",
       "    <tr style=\"text-align: right;\">\n",
       "      <th></th>\n",
       "      <th>dialogue</th>\n",
       "      <th>tissue</th>\n",
       "      <th>tissue-extraction</th>\n",
       "    </tr>\n",
       "  </thead>\n",
       "  <tbody>\n",
       "    <tr>\n",
       "      <th>335</th>\n",
       "      <td>youre not gonna follow the spermatic cord, you...</td>\n",
       "      <td>seminal_vesicle_vas</td>\n",
       "      <td>spermatic cord</td>\n",
       "    </tr>\n",
       "  </tbody>\n",
       "</table>\n",
       "</div>"
      ],
      "text/plain": [
       "                                              dialogue               tissue  \\\n",
       "335  youre not gonna follow the spermatic cord, you...  seminal_vesicle_vas   \n",
       "\n",
       "    tissue-extraction  \n",
       "335    spermatic cord  "
      ]
     },
     "execution_count": 4,
     "metadata": {},
     "output_type": "execute_result"
    }
   ],
   "source": [
    "t_e2c[t_e2c['dialogue'].str.contains('spermatic cord')]"
   ]
  },
  {
   "cell_type": "markdown",
   "id": "dc2bf6db",
   "metadata": {},
   "source": [
    "## Figure"
   ]
  },
  {
   "cell_type": "code",
   "execution_count": 7,
   "id": "92b94357",
   "metadata": {},
   "outputs": [
    {
     "data": {
      "text/plain": [
       "dialogue                                           just buzz those vessels\n",
       "timestamp                                                         15:52:48\n",
       "case                                                                     8\n",
       "cvid                                                     c8_s0_0-20-29.avi\n",
       "procedure                                                      nephrectomy\n",
       "procedure_defn           Nephrectomy is a surgical procedure that invol...\n",
       "task                                                            dissecting\n",
       "task_defn                Dissecting involves carefully separating tissu...\n",
       "instrument                                                   energy_device\n",
       "action                                                           coagulate\n",
       "tissue                                                 general_vasculature\n",
       "instrument-extraction                                       electrocautery\n",
       "action-extraction                                                     buzz\n",
       "tissue-extraction                                                  vessels\n",
       "Name: 277, dtype: object"
      ]
     },
     "execution_count": 7,
     "metadata": {},
     "output_type": "execute_result"
    }
   ],
   "source": [
    "annotations_df[(annotations_df['instrument'] != 'NONE') & (annotations_df['action'] != 'NONE') & (annotations_df['tissue'] != 'NONE')].iloc[3]"
   ]
  },
  {
   "cell_type": "code",
   "execution_count": 8,
   "id": "d7678dab",
   "metadata": {},
   "outputs": [
    {
     "data": {
      "text/plain": [
       "dialogue                                            stay above that tendon\n",
       "timestamp                                                         15:52:45\n",
       "case                                                                     8\n",
       "cvid                                                     c8_s0_0-20-26.avi\n",
       "procedure                                                      nephrectomy\n",
       "procedure_defn           Nephrectomy is a surgical procedure that invol...\n",
       "task                                                            dissecting\n",
       "task_defn                Dissecting involves carefully separating tissu...\n",
       "instrument                                                            NONE\n",
       "action                                                       control_depth\n",
       "tissue                                                      muscle_capsule\n",
       "instrument-extraction                                                 NONE\n",
       "action-extraction                                               stay above\n",
       "tissue-extraction                                                   tendon\n",
       "Name: 276, dtype: object"
      ]
     },
     "execution_count": 8,
     "metadata": {},
     "output_type": "execute_result"
    }
   ],
   "source": [
    "annotations_df[(annotations_df['action'] != 'NONE') & (annotations_df['tissue'] != 'NONE')].iloc[30]"
   ]
  },
  {
   "cell_type": "code",
   "execution_count": 9,
   "id": "8ba3f5e0",
   "metadata": {},
   "outputs": [
    {
     "data": {
      "text/plain": [
       "dialogue                                           get L hand below ureter\n",
       "timestamp                                                         14:41:07\n",
       "case                                                                    10\n",
       "cvid                                                    c10_s0_0-30-28.avi\n",
       "procedure                                                      nephrectomy\n",
       "procedure_defn           Nephrectomy is a surgical procedure that invol...\n",
       "task                                                            Dissection\n",
       "task_defn                Dissection involves carefully separating and i...\n",
       "instrument                                                       left_hand\n",
       "action                                                       control_depth\n",
       "tissue                                                              ureter\n",
       "instrument-extraction                                            left hand\n",
       "action-extraction                                                get below\n",
       "tissue-extraction                                                   ureter\n",
       "Name: 343, dtype: object"
      ]
     },
     "execution_count": 9,
     "metadata": {},
     "output_type": "execute_result"
    }
   ],
   "source": [
    "annotations_df[(annotations_df['instrument'] != 'NONE') & (annotations_df['action'] != 'NONE') & (annotations_df['tissue'] != 'NONE')].iloc[4]"
   ]
  },
  {
   "cell_type": "markdown",
   "id": "bc4d3c95",
   "metadata": {},
   "source": [
    "## Top 10 Terms"
   ]
  },
  {
   "cell_type": "code",
   "execution_count": 35,
   "id": "12d30691",
   "metadata": {},
   "outputs": [],
   "source": [
    "from collections import Counter\n",
    "\n",
    "i_e2c_terms = i_e2c.groupby('instrument').agg(list).reset_index()\n",
    "a_e2c_terms = a_e2c.groupby('action').agg(list).reset_index()\n",
    "t_e2c_terms = t_e2c.groupby('tissue').agg(list).reset_index()\n",
    "\n",
    "# i_e2c_terms['instrument-extraction'] = i_e2c_terms['instrument-extraction'].apply(lambda x: [item for sublist in x for item in sublist])\n",
    "# a_e2c_terms['action-extraction'] = a_e2c_terms['action-extraction'].apply(lambda x: [item for sublist in x for item in sublist])\n",
    "# t_e2c_terms['tissue-extraction'] = t_e2c_terms['tissue-extraction'].apply(lambda x: [item for sublist in x for item in sublist])\n",
    "\n",
    "i_e2c_terms['extraction_term_counts'] = i_e2c_terms['instrument-extraction'].apply(lambda x: dict(sorted(Counter(x).items(), key=lambda item: item[1], reverse=True)) )\n",
    "a_e2c_terms['extraction_term_counts'] = a_e2c_terms['action-extraction'].apply(lambda x: dict(sorted(Counter(x).items(), key=lambda item: item[1], reverse=True)) )\n",
    "t_e2c_terms['extraction_term_counts'] = t_e2c_terms['tissue-extraction'].apply(lambda x: dict(sorted(Counter(x).items(), key=lambda item: item[1], reverse=True)) )\n",
    "\n",
    "i_e2c_terms['extraction_term_counts'] = i_e2c_terms['extraction_term_counts'].apply(lambda x: [f\"{k} ({v})\" for k, v in x.items()])\n",
    "a_e2c_terms['extraction_term_counts'] = a_e2c_terms['extraction_term_counts'].apply(lambda x: [f\"{k} ({v})\" for k, v in x.items()])\n",
    "t_e2c_terms['extraction_term_counts'] = t_e2c_terms['extraction_term_counts'].apply(lambda x: [f\"{k} ({v})\" for k, v in x.items()])\n"
   ]
  },
  {
   "cell_type": "code",
   "execution_count": 36,
   "id": "6f17279b",
   "metadata": {},
   "outputs": [],
   "source": [
    "i_e2c_terms[['instrument', 'extraction_term_counts']].to_csv('/home/firdavs/surgery/surgical_fb_generation/SurgFBGen/data/iat/instrument_cluster_counts.csv', index=False)\n",
    "a_e2c_terms[['action', 'extraction_term_counts']].to_csv('/home/firdavs/surgery/surgical_fb_generation/SurgFBGen/data/iat/action_cluster_counts.csv', index=False)\n",
    "t_e2c_terms[['tissue', 'extraction_term_counts']].to_csv('/home/firdavs/surgery/surgical_fb_generation/SurgFBGen/data/iat/tissue_cluster_counts.csv', index=False)"
   ]
  },
  {
   "cell_type": "code",
   "execution_count": 38,
   "id": "35d3ee23",
   "metadata": {},
   "outputs": [],
   "source": [
    "i_e2c_terms['extraction_top10_terms'] = i_e2c_terms['instrument-extraction'].apply(lambda x: [item[0] for item in Counter(x).most_common(10)])\n",
    "a_e2c_terms['extraction_top10_terms'] = a_e2c_terms['action-extraction'].apply(lambda x: [item[0] for item in Counter(x).most_common(10)])\n",
    "t_e2c_terms['extraction_top10_terms'] = t_e2c_terms['tissue-extraction'].apply(lambda x: [item[0] for item in Counter(x).most_common(10)])\n",
    "\n",
    "top10_rows = []"
   ]
  },
  {
   "cell_type": "code",
   "execution_count": 22,
   "id": "bcda9b25",
   "metadata": {},
   "outputs": [
    {
     "name": "stdout",
     "output_type": "stream",
     "text": [
      "energy_device\n",
      "electrocautery, hook, energy device, bovie, coagulation tool, clip, coagulator, monopolar, bipolar, vessel sealer\n",
      "----------------------------------------------------------------------------------------------------\n",
      "fourth_arm\n",
      "fourth arm, 4th arm, stitch, retractor, scissors\n",
      "----------------------------------------------------------------------------------------------------\n",
      "left_hand\n",
      "left hand, left arm, right hand, scissors, 4th arm, fourth arm, left hand instrument\n",
      "----------------------------------------------------------------------------------------------------\n",
      "needle\n",
      "needle, needles, balloon, suture\n",
      "----------------------------------------------------------------------------------------------------\n",
      "stitch\n",
      "stitch, stitches, chromic stitch, foley\n",
      "----------------------------------------------------------------------------------------------------\n",
      "suture_material\n",
      "suture, sutures, vicryl, 3-0 suture, vicyl stitch\n",
      "----------------------------------------------------------------------------------------------------\n"
     ]
    }
   ],
   "source": [
    "# instruments\n",
    "for i in range(len(i_e2c_terms)):\n",
    "    row = i_e2c_terms.iloc[i]\n",
    "    print(row['instrument'])\n",
    "    print(str(row['extraction_top10_terms']).replace(\"'\", '').replace('[', '').replace(']', ''))\n",
    "    print('-'*100)\n",
    "    top10_rows.append({\n",
    "        'IAT': 'instrument',\n",
    "        'IAT_term': row['instrument'],\n",
    "        'IAT_top10_terms': row['extraction_top10_terms']\n",
    "    })"
   ]
  },
  {
   "cell_type": "code",
   "execution_count": 12,
   "id": "675c49b0",
   "metadata": {},
   "outputs": [
    {
     "name": "stdout",
     "output_type": "stream",
     "text": [
      "adjust\n",
      "['get right', 'slow down', 'go slow', 'narrow down', 'match up', 'take', 'increase', 'go slower', 'go', 'ease']\n",
      "----------------------------------------------------------------------------------------------------\n",
      "adjust_direction\n",
      "['go lateral', 'be more midline', 'Aim back up', 'err on the lateral sides', 'come from the lateral side', 'go obliquely', 'avoid', 'come obliquely', 'come from the sides', 'go cephalad more']\n",
      "----------------------------------------------------------------------------------------------------\n",
      "apply_traction\n",
      "['grab', \"don't pull\", 'pull down', 'pull', 'pull back', 'hold', 'take', 'Press', 'stop', 'pull up']\n",
      "----------------------------------------------------------------------------------------------------\n",
      "coagulate\n",
      "['buzz', 'sweep', 'Buzz', \"don't buzz blindly\", 'be patient', 'burn', 'coag', 'buzz on that crease', 'give a little buzz', 'bovie']\n",
      "----------------------------------------------------------------------------------------------------\n",
      "continue_action\n",
      "['give', 'do', 'try', 'use', 'exhaust', 'create more', 'do more', 'use it', 'Do', 'do again']\n",
      "----------------------------------------------------------------------------------------------------\n",
      "control_depth\n",
      "['go down', 'go higher', 'come down', 'go deeper', 'keep going down', 'stay up', 'get up', 'take higher', 'try to get', 'come above']\n",
      "----------------------------------------------------------------------------------------------------\n",
      "cut\n",
      "['cut', 'cut down', 'cold cut', 'do one thing', 'cut just above', 'slice', 'suture cut', 'cut carefully', 'keep cutting', 'start cutting']\n",
      "----------------------------------------------------------------------------------------------------\n",
      "dissect\n",
      "['get off', 'deliver', 'free up', 'take out', 'take away', 'define', 'bloc it', 'stay sharp', 'go down', 'scrape']\n",
      "----------------------------------------------------------------------------------------------------\n",
      "ensure_safety\n",
      "['be careful', 'rip', 'be gentle', \"don't cut\", 'rip carefully', 'be aware', 'dont rip', 'get first', 'err', 'DONT rip']\n",
      "----------------------------------------------------------------------------------------------------\n",
      "grasp\n",
      "['grab', 'take', 'regrab', 'take it', 'hold', 'hang on', 'take less', \"don't grab\", 'look up', 'start']\n",
      "----------------------------------------------------------------------------------------------------\n",
      "inspect\n",
      "['see', 'watch', 'do', 'look', 'reduce', 'see below', 'see posterior plane', 'extract', 'look down', 'grab']\n",
      "----------------------------------------------------------------------------------------------------\n",
      "navigate_space\n",
      "['come', 'travel more', 'come back', 'get out', 'back up', 'come out', 'bring', 'go back', 'travel', 'travel a little bit']\n",
      "----------------------------------------------------------------------------------------------------\n",
      "open\n",
      "['open', 'open up', 'open more', 'open up a little bit more', 'open up wide', 'show', 'open completely', 'Get tips in', 'make', 'forget']\n",
      "----------------------------------------------------------------------------------------------------\n",
      "perform_sweeping_maneuvers\n",
      "['sweep', 'sweep down', 'sweep off', \"don't sweep\", 'sweep up', 'sweep towards you', 'swipe', 'sweep back', 'preserve', 'swipe up']\n",
      "----------------------------------------------------------------------------------------------------\n",
      "release_instrument\n",
      "['drop', 'leave', 'leave it', 'drop down', 'leave it be', 'leave a little bit', 'leave alone', 'leave it alone', 'Release a little bit', 'leave a little more']\n",
      "----------------------------------------------------------------------------------------------------\n",
      "rotate\n",
      "['rotate', 'reverse', 'Rotate', 'do']\n",
      "----------------------------------------------------------------------------------------------------\n",
      "spread\n",
      "['separate', 'widen', 'make it wide', 'extend distally', 'skinny down', 'thin out', \"don't go too wide\", 'open', 'open up', 'go right']\n",
      "----------------------------------------------------------------------------------------------------\n",
      "stop\n",
      "['stop', 'stop short', 'Stop']\n",
      "----------------------------------------------------------------------------------------------------\n",
      "suture\n",
      "['throw', 'sew', \"don't pull\", 'loop up', 'take stitch', 'bigger loop', 'throw sutures', 'take', 'loop']\n",
      "----------------------------------------------------------------------------------------------------\n",
      "turn\n",
      "['turn', 'flip', 'flip up', 'U it back', 'Turn more', 'curl', 'go in', 'round', 'Grab', 'turn more']\n",
      "----------------------------------------------------------------------------------------------------\n"
     ]
    }
   ],
   "source": [
    "# actions\n",
    "for i in range(len(a_e2c_terms)):\n",
    "    row = a_e2c_terms.iloc[i]\n",
    "    print(row['action'])\n",
    "    print(row['extraction_top10_terms'])\n",
    "    print('-'*100)\n",
    "    top10_rows.append({\n",
    "        'IAT': 'action',\n",
    "        'IAT_term': row['action'],\n",
    "        'IAT_top10_terms': row['extraction_top10_terms']\n",
    "    })"
   ]
  },
  {
   "cell_type": "code",
   "execution_count": 13,
   "id": "8fa020ee",
   "metadata": {},
   "outputs": [
    {
     "name": "stdout",
     "output_type": "stream",
     "text": [
      "adrenal_kidney_region\n",
      "['kidney', 'liver', 'psoas', 'adrenal', 'lateral edge of adrenal', 'cyst', 'adrenal vessels', 'lower pole', 'fascia of psoas', 'psoas sheets']\n",
      "----------------------------------------------------------------------------------------------------\n",
      "bladder\n",
      "['bladder', 'bladder neck', 'posterior bladder neck', 'anterior bladder neck', 'prostate', 'bladder fibers', 'central suture', 'vessels', 'abdominal fat', 'needle catheter']\n",
      "----------------------------------------------------------------------------------------------------\n",
      "general_vasculature\n",
      "['vessel', 'vessels', 'veins', 'aorta', 'arteries', 'vein', 'pedicles', 'blood vessel', 'lateral structure', 'arterial pumper']\n",
      "----------------------------------------------------------------------------------------------------\n",
      "gi_tract\n",
      "['mucosa', 'bowel', 'rectum', 'diverticuli', 'mucosal edge', 'colon', 'rectal integrity', 'inner mucosa', 'bowel wall', 'ileostomy']\n",
      "----------------------------------------------------------------------------------------------------\n",
      "major_veins\n",
      "['vein', 'veins', 'tissue', 'lumbar vein', 'cava', 'puboprostatic ligaments', 'external iliac vein', 'inferior vena cava']\n",
      "----------------------------------------------------------------------------------------------------\n",
      "muscle_capsule\n",
      "['muscle', 'capsule', 'detrusor fibers', 'capsule fibers', 'muscle fiber', 'tendon', 'detrusor muscle', 'muscle fibers', 'rectourethralis muscle', 'diaphragm']\n",
      "----------------------------------------------------------------------------------------------------\n",
      "prostate_tissue\n",
      "['prostate', 'adenoma', 'prostate contour', 'tumor', 'median lobe', 'fat', 'apex', 'peripheral zone', 'vessel', 'tissue']\n",
      "----------------------------------------------------------------------------------------------------\n",
      "seminal_vesicle_vas\n",
      "['Seminal Vesicles', 'vas deferens', 'tissue', 'Vas deferens', 'septum', 'VAS', 'spermatic cord', 'medial aspect', 'vessels', 'vesicles']\n",
      "----------------------------------------------------------------------------------------------------\n",
      "ureter\n",
      "['ureter', 'gondal', 'gonadal', 'colon', 'fat', 'urether']\n",
      "----------------------------------------------------------------------------------------------------\n",
      "urethra\n",
      "['urethra', 'bladder', 'sphincter', 'lateral structure', 'posterior plane', 'tissue around urethra', 'periurethral tissue', 'bladder neck', 'urethra edge', 'posterior structure']\n",
      "----------------------------------------------------------------------------------------------------\n"
     ]
    }
   ],
   "source": [
    "# tissues\n",
    "for i in range(len(t_e2c_terms)):\n",
    "    row = t_e2c_terms.iloc[i]\n",
    "    print(row['tissue'])\n",
    "    print(row['extraction_top10_terms'])\n",
    "    print('-'*100)\n",
    "    top10_rows.append({\n",
    "        'IAT': 'tissue',\n",
    "        'IAT_term': row['tissue'],\n",
    "        'IAT_top10_terms': row['extraction_top10_terms']\n",
    "    })"
   ]
  },
  {
   "cell_type": "code",
   "execution_count": 14,
   "id": "04d63283",
   "metadata": {},
   "outputs": [
    {
     "data": {
      "text/html": [
       "<div>\n",
       "<style scoped>\n",
       "    .dataframe tbody tr th:only-of-type {\n",
       "        vertical-align: middle;\n",
       "    }\n",
       "\n",
       "    .dataframe tbody tr th {\n",
       "        vertical-align: top;\n",
       "    }\n",
       "\n",
       "    .dataframe thead th {\n",
       "        text-align: right;\n",
       "    }\n",
       "</style>\n",
       "<table border=\"1\" class=\"dataframe\">\n",
       "  <thead>\n",
       "    <tr style=\"text-align: right;\">\n",
       "      <th></th>\n",
       "      <th></th>\n",
       "      <th>IAT_top10_terms</th>\n",
       "    </tr>\n",
       "    <tr>\n",
       "      <th>IAT</th>\n",
       "      <th>IAT_term</th>\n",
       "      <th></th>\n",
       "    </tr>\n",
       "  </thead>\n",
       "  <tbody>\n",
       "    <tr>\n",
       "      <th rowspan=\"6\" valign=\"top\">instrument</th>\n",
       "      <th>energy_device</th>\n",
       "      <td>[electrocautery, hook, energy device, bovie, c...</td>\n",
       "    </tr>\n",
       "    <tr>\n",
       "      <th>fourth_arm</th>\n",
       "      <td>[fourth arm, 4th arm, stitch, retractor, sciss...</td>\n",
       "    </tr>\n",
       "    <tr>\n",
       "      <th>left_hand</th>\n",
       "      <td>[left hand, left arm, right hand, scissors, 4t...</td>\n",
       "    </tr>\n",
       "    <tr>\n",
       "      <th>needle</th>\n",
       "      <td>[needle, needles, balloon, suture]</td>\n",
       "    </tr>\n",
       "    <tr>\n",
       "      <th>stitch</th>\n",
       "      <td>[stitch, stitches, chromic stitch, foley]</td>\n",
       "    </tr>\n",
       "    <tr>\n",
       "      <th>suture_material</th>\n",
       "      <td>[suture, sutures, vicryl, 3-0 suture, vicyl st...</td>\n",
       "    </tr>\n",
       "    <tr>\n",
       "      <th rowspan=\"20\" valign=\"top\">action</th>\n",
       "      <th>adjust</th>\n",
       "      <td>[get right, slow down, go slow, narrow down, m...</td>\n",
       "    </tr>\n",
       "    <tr>\n",
       "      <th>adjust_direction</th>\n",
       "      <td>[go lateral, be more midline, Aim back up, err...</td>\n",
       "    </tr>\n",
       "    <tr>\n",
       "      <th>apply_traction</th>\n",
       "      <td>[grab, don't pull, pull down, pull, pull back,...</td>\n",
       "    </tr>\n",
       "    <tr>\n",
       "      <th>coagulate</th>\n",
       "      <td>[buzz, sweep, Buzz, don't buzz blindly, be pat...</td>\n",
       "    </tr>\n",
       "    <tr>\n",
       "      <th>continue_action</th>\n",
       "      <td>[give, do, try, use, exhaust, create more, do ...</td>\n",
       "    </tr>\n",
       "    <tr>\n",
       "      <th>control_depth</th>\n",
       "      <td>[go down, go higher, come down, go deeper, kee...</td>\n",
       "    </tr>\n",
       "    <tr>\n",
       "      <th>cut</th>\n",
       "      <td>[cut, cut down, cold cut, do one thing, cut ju...</td>\n",
       "    </tr>\n",
       "    <tr>\n",
       "      <th>dissect</th>\n",
       "      <td>[get off, deliver, free up, take out, take awa...</td>\n",
       "    </tr>\n",
       "    <tr>\n",
       "      <th>ensure_safety</th>\n",
       "      <td>[be careful, rip, be gentle, don't cut, rip ca...</td>\n",
       "    </tr>\n",
       "    <tr>\n",
       "      <th>grasp</th>\n",
       "      <td>[grab, take, regrab, take it, hold, hang on, t...</td>\n",
       "    </tr>\n",
       "    <tr>\n",
       "      <th>inspect</th>\n",
       "      <td>[see, watch, do, look, reduce, see below, see ...</td>\n",
       "    </tr>\n",
       "    <tr>\n",
       "      <th>navigate_space</th>\n",
       "      <td>[come, travel more, come back, get out, back u...</td>\n",
       "    </tr>\n",
       "    <tr>\n",
       "      <th>open</th>\n",
       "      <td>[open, open up, open more, open up a little bi...</td>\n",
       "    </tr>\n",
       "    <tr>\n",
       "      <th>perform_sweeping_maneuvers</th>\n",
       "      <td>[sweep, sweep down, sweep off, don't sweep, sw...</td>\n",
       "    </tr>\n",
       "    <tr>\n",
       "      <th>release_instrument</th>\n",
       "      <td>[drop, leave, leave it, drop down, leave it be...</td>\n",
       "    </tr>\n",
       "    <tr>\n",
       "      <th>rotate</th>\n",
       "      <td>[rotate, reverse, Rotate, do]</td>\n",
       "    </tr>\n",
       "    <tr>\n",
       "      <th>spread</th>\n",
       "      <td>[separate, widen, make it wide, extend distall...</td>\n",
       "    </tr>\n",
       "    <tr>\n",
       "      <th>stop</th>\n",
       "      <td>[stop, stop short, Stop]</td>\n",
       "    </tr>\n",
       "    <tr>\n",
       "      <th>suture</th>\n",
       "      <td>[throw, sew, don't pull, loop up, take stitch,...</td>\n",
       "    </tr>\n",
       "    <tr>\n",
       "      <th>turn</th>\n",
       "      <td>[turn, flip, flip up, U it back, Turn more, cu...</td>\n",
       "    </tr>\n",
       "    <tr>\n",
       "      <th rowspan=\"10\" valign=\"top\">tissue</th>\n",
       "      <th>adrenal_kidney_region</th>\n",
       "      <td>[kidney, liver, psoas, adrenal, lateral edge o...</td>\n",
       "    </tr>\n",
       "    <tr>\n",
       "      <th>bladder</th>\n",
       "      <td>[bladder, bladder neck, posterior bladder neck...</td>\n",
       "    </tr>\n",
       "    <tr>\n",
       "      <th>general_vasculature</th>\n",
       "      <td>[vessel, vessels, veins, aorta, arteries, vein...</td>\n",
       "    </tr>\n",
       "    <tr>\n",
       "      <th>gi_tract</th>\n",
       "      <td>[mucosa, bowel, rectum, diverticuli, mucosal e...</td>\n",
       "    </tr>\n",
       "    <tr>\n",
       "      <th>major_veins</th>\n",
       "      <td>[vein, veins, tissue, lumbar vein, cava, pubop...</td>\n",
       "    </tr>\n",
       "    <tr>\n",
       "      <th>muscle_capsule</th>\n",
       "      <td>[muscle, capsule, detrusor fibers, capsule fib...</td>\n",
       "    </tr>\n",
       "    <tr>\n",
       "      <th>prostate_tissue</th>\n",
       "      <td>[prostate, adenoma, prostate contour, tumor, m...</td>\n",
       "    </tr>\n",
       "    <tr>\n",
       "      <th>seminal_vesicle_vas</th>\n",
       "      <td>[Seminal Vesicles, vas deferens, tissue, Vas d...</td>\n",
       "    </tr>\n",
       "    <tr>\n",
       "      <th>ureter</th>\n",
       "      <td>[ureter, gondal, gonadal, colon, fat, urether]</td>\n",
       "    </tr>\n",
       "    <tr>\n",
       "      <th>urethra</th>\n",
       "      <td>[urethra, bladder, sphincter, lateral structur...</td>\n",
       "    </tr>\n",
       "  </tbody>\n",
       "</table>\n",
       "</div>"
      ],
      "text/plain": [
       "                                                                         IAT_top10_terms\n",
       "IAT        IAT_term                                                                     \n",
       "instrument energy_device               [electrocautery, hook, energy device, bovie, c...\n",
       "           fourth_arm                  [fourth arm, 4th arm, stitch, retractor, sciss...\n",
       "           left_hand                   [left hand, left arm, right hand, scissors, 4t...\n",
       "           needle                                     [needle, needles, balloon, suture]\n",
       "           stitch                              [stitch, stitches, chromic stitch, foley]\n",
       "           suture_material             [suture, sutures, vicryl, 3-0 suture, vicyl st...\n",
       "action     adjust                      [get right, slow down, go slow, narrow down, m...\n",
       "           adjust_direction            [go lateral, be more midline, Aim back up, err...\n",
       "           apply_traction              [grab, don't pull, pull down, pull, pull back,...\n",
       "           coagulate                   [buzz, sweep, Buzz, don't buzz blindly, be pat...\n",
       "           continue_action             [give, do, try, use, exhaust, create more, do ...\n",
       "           control_depth               [go down, go higher, come down, go deeper, kee...\n",
       "           cut                         [cut, cut down, cold cut, do one thing, cut ju...\n",
       "           dissect                     [get off, deliver, free up, take out, take awa...\n",
       "           ensure_safety               [be careful, rip, be gentle, don't cut, rip ca...\n",
       "           grasp                       [grab, take, regrab, take it, hold, hang on, t...\n",
       "           inspect                     [see, watch, do, look, reduce, see below, see ...\n",
       "           navigate_space              [come, travel more, come back, get out, back u...\n",
       "           open                        [open, open up, open more, open up a little bi...\n",
       "           perform_sweeping_maneuvers  [sweep, sweep down, sweep off, don't sweep, sw...\n",
       "           release_instrument          [drop, leave, leave it, drop down, leave it be...\n",
       "           rotate                                          [rotate, reverse, Rotate, do]\n",
       "           spread                      [separate, widen, make it wide, extend distall...\n",
       "           stop                                                 [stop, stop short, Stop]\n",
       "           suture                      [throw, sew, don't pull, loop up, take stitch,...\n",
       "           turn                        [turn, flip, flip up, U it back, Turn more, cu...\n",
       "tissue     adrenal_kidney_region       [kidney, liver, psoas, adrenal, lateral edge o...\n",
       "           bladder                     [bladder, bladder neck, posterior bladder neck...\n",
       "           general_vasculature         [vessel, vessels, veins, aorta, arteries, vein...\n",
       "           gi_tract                    [mucosa, bowel, rectum, diverticuli, mucosal e...\n",
       "           major_veins                 [vein, veins, tissue, lumbar vein, cava, pubop...\n",
       "           muscle_capsule              [muscle, capsule, detrusor fibers, capsule fib...\n",
       "           prostate_tissue             [prostate, adenoma, prostate contour, tumor, m...\n",
       "           seminal_vesicle_vas         [Seminal Vesicles, vas deferens, tissue, Vas d...\n",
       "           ureter                         [ureter, gondal, gonadal, colon, fat, urether]\n",
       "           urethra                     [urethra, bladder, sphincter, lateral structur..."
      ]
     },
     "execution_count": 14,
     "metadata": {},
     "output_type": "execute_result"
    }
   ],
   "source": [
    "top10_df = pd.DataFrame(top10_rows)\n",
    "top10_df.set_index(['IAT', 'IAT_term'])"
   ]
  },
  {
   "cell_type": "markdown",
   "id": "38c5e2ea",
   "metadata": {},
   "source": [
    "## Evaluate Clustering"
   ]
  },
  {
   "cell_type": "code",
   "execution_count": 82,
   "id": "a0a3aeab",
   "metadata": {},
   "outputs": [],
   "source": [
    "from gensim.models import CoherenceModel\n",
    "from gensim.corpora import Dictionary\n",
    "import re\n",
    "from collections import defaultdict\n",
    "\n",
    "def get_df_tokens(doc2cluster: dict[str, str]):\n",
    "    rows = []\n",
    "    for doc, cluster in doc2cluster.items():\n",
    "        rows.append({\n",
    "            \"doc\": doc,\n",
    "            \"cluster\": cluster\n",
    "        })\n",
    "    df = pd.DataFrame(rows)\n",
    "    df['tokens'] = df['doc'].apply(lambda x: re.findall(r\"[a-z]+\", x.lower().replace('[', '').replace(']', '').split(',')[0]))\n",
    "    return df\n",
    "\n",
    "def get_topics(doc2cluster: dict[str, str], n_top_words: int = 10):\n",
    "    df = get_df_tokens(doc2cluster)\n",
    "    dictionary = Dictionary(df['tokens'])\n",
    "    corpus = [dictionary.doc2bow(doc) for doc in df['tokens']]\n",
    "    cluster_to_tokens = defaultdict(list)\n",
    "    for toks, c in zip(df['tokens'], df['cluster']):\n",
    "        cluster_to_tokens[c].extend(toks)\n",
    "\n",
    "    cluster_topics = []\n",
    "    cluster_labels = []  # optional: to keep original ids\n",
    "    for c, toks in cluster_to_tokens.items():\n",
    "        counts = Counter(toks)\n",
    "        top_words = [w for w, _ in counts.most_common(n_top_words)]\n",
    "        cluster_topics.append(top_words)\n",
    "        cluster_labels.append(c)\n",
    "    return cluster_topics, cluster_labels, dictionary, corpus\n",
    "\n",
    "def compute_coherence_gensim(doc2cluster: dict[str, str], n_top_words: int = 10):\n",
    "    df = get_df_tokens(doc2cluster)\n",
    "    cluster_topics, cluster_labels, dictionary, corpus = get_topics(doc2cluster, n_top_words)\n",
    "\n",
    "    # 4) Compute coherence\n",
    "    # Recommended: 'c_v' or 'c_npmi' (needs texts). 'u_mass' needs corpus+dictionary.\n",
    "    cm_cv = CoherenceModel(\n",
    "        topics=cluster_topics,\n",
    "        texts=df[\"tokens\"],          # required for c_v / c_npmi\n",
    "        dictionary=dictionary,\n",
    "        coherence='c_v',\n",
    "        corpus=corpus\n",
    "    )   \n",
    "    return cm_cv\n",
    "\n",
    "from octis.evaluation_metrics.coherence_metrics import WECoherencePairwise, WECoherenceCentroid\n",
    "\n",
    "def compute_coherence_emb_pairwise(doc2cluster: dict[str, str], n_top_words: int = 10):\n",
    "    cluster_topics, cluster_labels, dictionary, corpus = get_topics(doc2cluster, n_top_words)\n",
    "    for topic in cluster_topics:\n",
    "        print(len(topic))\n",
    "    metric = WECoherencePairwise(topk=n_top_words)\n",
    "    coherence = metric.score({'topics': cluster_topics})\n",
    "    return coherence\n",
    "\n",
    "def compute_coherence_emb_centroid(doc2cluster: dict[str, str], n_top_words: int = 10):\n",
    "    cluster_topics, cluster_labels, dictionary, corpus = get_topics(doc2cluster, n_top_words)\n",
    "    for topic in cluster_topics:\n",
    "        print(len(topic))\n",
    "    metric = WECoherenceCentroid(topk=n_top_words)\n",
    "    coherence = metric.score({'topics': cluster_topics})\n",
    "    return coherence\n"
   ]
  },
  {
   "cell_type": "markdown",
   "id": "953cca86",
   "metadata": {},
   "source": [
    "### 1) BERTopic Clustering"
   ]
  },
  {
   "cell_type": "code",
   "execution_count": 83,
   "id": "a03bbe82",
   "metadata": {},
   "outputs": [
    {
     "name": "stdout",
     "output_type": "stream",
     "text": [
      "INSTRUMENT:\n"
     ]
    },
    {
     "name": "stdout",
     "output_type": "stream",
     "text": [
      "0.5167408451332131\n",
      "--------------------\n",
      "ACTION:\n",
      "0.44590681014655376\n",
      "--------------------\n",
      "TISSUE:\n",
      "0.4221840024296348\n"
     ]
    }
   ],
   "source": [
    "i_doc2cluster_path = '/home/firdavs/surgery/surgical_fb_generation/SurgFBGen/data/urology-related/rafal_instrument_clusters.csv'\n",
    "a_doc2cluster_path = i_doc2cluster_path.replace('instrument', 'action')\n",
    "t_doc2cluster_path = i_doc2cluster_path.replace('instrument', 'tissue')\n",
    "\n",
    "i_doc2cluster = pd.read_csv(i_doc2cluster_path)[['Document', 'Name']]\n",
    "i_doc2cluster = dict(zip(i_doc2cluster['Document'], i_doc2cluster['Name']))\n",
    "\n",
    "a_doc2cluster = pd.read_csv(a_doc2cluster_path)[['Document', 'Name']]\n",
    "a_doc2cluster = dict(zip(a_doc2cluster['Document'], a_doc2cluster['Name']))\n",
    "\n",
    "t_doc2cluster = pd.read_csv(t_doc2cluster_path)[['Document', 'Name']]\n",
    "t_doc2cluster = dict(zip(t_doc2cluster['Document'], t_doc2cluster['Name']))\n",
    "\n",
    "print(\"INSTRUMENT:\")\n",
    "i_cm_cv = compute_coherence_gensim(i_doc2cluster)\n",
    "print(i_cm_cv.get_coherence())\n",
    "print('-'*20)\n",
    "print(\"ACTION:\")\n",
    "a_cm_cv = compute_coherence_gensim(a_doc2cluster)\n",
    "print(a_cm_cv.get_coherence())\n",
    "print('-'*20)\n",
    "print(\"TISSUE:\")\n",
    "t_cm_cv = compute_coherence_gensim(t_doc2cluster)\n",
    "print(t_cm_cv.get_coherence())\n",
    "\n",
    "bertopic_clustering_metrics = {'method': 'bertopic_clustering'}\n",
    "bertopic_clustering_metrics['instrument'] = round(i_cm_cv.get_coherence(), 2)\n",
    "bertopic_clustering_metrics['action'] = round(a_cm_cv.get_coherence(), 2)\n",
    "bertopic_clustering_metrics['tissue'] = round(t_cm_cv.get_coherence(), 2)"
   ]
  },
  {
   "cell_type": "markdown",
   "id": "634f9230",
   "metadata": {},
   "source": [
    "### 2) Initial LLM Clustering"
   ]
  },
  {
   "cell_type": "code",
   "execution_count": 87,
   "id": "6d8ed471",
   "metadata": {},
   "outputs": [
    {
     "name": "stdout",
     "output_type": "stream",
     "text": [
      "INSTRUMENT:\n",
      "0.553387295836158\n",
      "--------------------\n",
      "ACTION:\n",
      "0.5039468094095351\n",
      "--------------------\n",
      "TISSUE:\n",
      "0.4725659349653062\n"
     ]
    }
   ],
   "source": [
    "import json\n",
    "\n",
    "i_doc2cluster_path = '/home/firdavs/surgery/surgical_fb_generation/SurgFBGen/data/urology-related/o3_instrument_clusters-mapping.json'\n",
    "a_doc2cluster_path = i_doc2cluster_path.replace('instrument', 'action')\n",
    "t_doc2cluster_path = i_doc2cluster_path.replace('instrument', 'tissue')\n",
    "\n",
    "with open(i_doc2cluster_path, 'r') as f:\n",
    "    i_doc2cluster = json.load(f)\n",
    "\n",
    "with open(a_doc2cluster_path, 'r') as f:\n",
    "    a_doc2cluster = json.load(f)\n",
    "\n",
    "with open(t_doc2cluster_path, 'r') as f:\n",
    "    t_doc2cluster = json.load(f)\n",
    "\n",
    "print(\"INSTRUMENT:\")\n",
    "i_cm_cv = compute_coherence_gensim(i_doc2cluster)\n",
    "print(i_cm_cv.get_coherence())\n",
    "print('-'*20)\n",
    "print(\"ACTION:\")\n",
    "a_cm_cv = compute_coherence_gensim(a_doc2cluster)\n",
    "print(a_cm_cv.get_coherence())\n",
    "print('-'*20)\n",
    "print(\"TISSUE:\")\n",
    "t_cm_cv = compute_coherence_gensim(t_doc2cluster)\n",
    "print(t_cm_cv.get_coherence())\n",
    "\n",
    "initial_llm_clustering_metrics = {'method': 'initial_llm_clustering'}\n",
    "initial_llm_clustering_metrics['instrument'] = round(i_cm_cv.get_coherence(), 2)\n",
    "initial_llm_clustering_metrics['action'] = round(a_cm_cv.get_coherence(), 2)\n",
    "initial_llm_clustering_metrics['tissue'] = round(t_cm_cv.get_coherence(), 2)"
   ]
  },
  {
   "cell_type": "markdown",
   "id": "c1e7b6cc",
   "metadata": {},
   "source": [
    "### 3) Final LLM Clustering"
   ]
  },
  {
   "cell_type": "code",
   "execution_count": 88,
   "id": "a2a6beaf",
   "metadata": {},
   "outputs": [
    {
     "name": "stdout",
     "output_type": "stream",
     "text": [
      "INSTRUMENT:\n"
     ]
    },
    {
     "name": "stdout",
     "output_type": "stream",
     "text": [
      "0.5116331798894008\n",
      "--------------------\n",
      "ACTION:\n",
      "0.49025317055470763\n",
      "--------------------\n",
      "TISSUE:\n",
      "0.5684631273013405\n"
     ]
    }
   ],
   "source": [
    "annotations_df = pd.read_csv('/home/firdavs/surgery/surgical_fb_generation/SurgFBGen/data/iat_predictor_splits/full.csv')\n",
    "\n",
    "i_doc2cluster = dict(zip(annotations_df['instrument-extraction'], annotations_df['instrument']))\n",
    "a_doc2cluster = dict(zip(annotations_df['action-extraction'], annotations_df['action']))\n",
    "t_doc2cluster = dict(zip(annotations_df['tissue-extraction'], annotations_df['tissue']))\n",
    "\n",
    "print(\"INSTRUMENT:\")\n",
    "i_cm_cv = compute_coherence_gensim(i_doc2cluster)\n",
    "print(i_cm_cv.get_coherence())\n",
    "print('-'*20)\n",
    "print(\"ACTION:\")\n",
    "a_cm_cv = compute_coherence_gensim(a_doc2cluster)\n",
    "print(a_cm_cv.get_coherence())\n",
    "print('-'*20)\n",
    "print(\"TISSUE:\")\n",
    "t_cm_cv = compute_coherence_gensim(t_doc2cluster)\n",
    "print(t_cm_cv.get_coherence())\n",
    "\n",
    "final_llm_clustering_metrics = {'method': 'final_llm_clustering'}\n",
    "final_llm_clustering_metrics['instrument'] = round(i_cm_cv.get_coherence(), 2)\n",
    "final_llm_clustering_metrics['action'] = round(a_cm_cv.get_coherence(), 2)\n",
    "final_llm_clustering_metrics['tissue'] = round(t_cm_cv.get_coherence(), 2)"
   ]
  },
  {
   "cell_type": "markdown",
   "id": "94f5f59b",
   "metadata": {},
   "source": [
    "### 4) All"
   ]
  },
  {
   "cell_type": "code",
   "execution_count": 69,
   "id": "be6075d3",
   "metadata": {},
   "outputs": [
    {
     "data": {
      "text/html": [
       "<div>\n",
       "<style scoped>\n",
       "    .dataframe tbody tr th:only-of-type {\n",
       "        vertical-align: middle;\n",
       "    }\n",
       "\n",
       "    .dataframe tbody tr th {\n",
       "        vertical-align: top;\n",
       "    }\n",
       "\n",
       "    .dataframe thead th {\n",
       "        text-align: right;\n",
       "    }\n",
       "</style>\n",
       "<table border=\"1\" class=\"dataframe\">\n",
       "  <thead>\n",
       "    <tr style=\"text-align: right;\">\n",
       "      <th></th>\n",
       "      <th>method</th>\n",
       "      <th>instrument</th>\n",
       "      <th>instrument-gain</th>\n",
       "      <th>action</th>\n",
       "      <th>action-gain</th>\n",
       "      <th>tissue</th>\n",
       "      <th>tissue-gain</th>\n",
       "    </tr>\n",
       "  </thead>\n",
       "  <tbody>\n",
       "    <tr>\n",
       "      <th>0</th>\n",
       "      <td>bertopic_clustering</td>\n",
       "      <td>0.49</td>\n",
       "      <td>0.00</td>\n",
       "      <td>0.56</td>\n",
       "      <td>0.00</td>\n",
       "      <td>0.50</td>\n",
       "      <td>0.00</td>\n",
       "    </tr>\n",
       "    <tr>\n",
       "      <th>1</th>\n",
       "      <td>initial_llm_clustering</td>\n",
       "      <td>0.58</td>\n",
       "      <td>0.18</td>\n",
       "      <td>0.59</td>\n",
       "      <td>0.05</td>\n",
       "      <td>0.55</td>\n",
       "      <td>0.10</td>\n",
       "    </tr>\n",
       "    <tr>\n",
       "      <th>2</th>\n",
       "      <td>final_llm_clustering</td>\n",
       "      <td>0.55</td>\n",
       "      <td>0.12</td>\n",
       "      <td>0.66</td>\n",
       "      <td>0.18</td>\n",
       "      <td>0.68</td>\n",
       "      <td>0.36</td>\n",
       "    </tr>\n",
       "  </tbody>\n",
       "</table>\n",
       "</div>"
      ],
      "text/plain": [
       "                   method  instrument  instrument-gain  action  action-gain  \\\n",
       "0     bertopic_clustering        0.49             0.00    0.56         0.00   \n",
       "1  initial_llm_clustering        0.58             0.18    0.59         0.05   \n",
       "2    final_llm_clustering        0.55             0.12    0.66         0.18   \n",
       "\n",
       "   tissue  tissue-gain  \n",
       "0    0.50         0.00  \n",
       "1    0.55         0.10  \n",
       "2    0.68         0.36  "
      ]
     },
     "execution_count": 69,
     "metadata": {},
     "output_type": "execute_result"
    }
   ],
   "source": [
    "clustering_coherence_df = pd.DataFrame([bertopic_clustering_metrics, initial_llm_clustering_metrics, final_llm_clustering_metrics]).round(2)\n",
    "clustering_coherence_df['instrument-gain'] = clustering_coherence_df.apply(\n",
    "    lambda row: row['instrument'] / bertopic_clustering_metrics['instrument'] - 1,\n",
    "    axis=1\n",
    ")\n",
    "clustering_coherence_df['action-gain'] = clustering_coherence_df.apply(\n",
    "    lambda row: row['action'] / bertopic_clustering_metrics['action'] - 1,\n",
    "    axis=1\n",
    ")\n",
    "clustering_coherence_df['tissue-gain'] = clustering_coherence_df.apply(\n",
    "    lambda row: row['tissue'] / bertopic_clustering_metrics['tissue'] - 1,\n",
    "    axis=1\n",
    ")\n",
    "clustering_coherence_df = clustering_coherence_df[['method', 'instrument', 'instrument-gain', 'action', 'action-gain', 'tissue', 'tissue-gain']].round(2)\n",
    "clustering_coherence_df"
   ]
  },
  {
   "cell_type": "code",
   "execution_count": 89,
   "id": "087c54b5",
   "metadata": {},
   "outputs": [
    {
     "data": {
      "text/html": [
       "<div>\n",
       "<style scoped>\n",
       "    .dataframe tbody tr th:only-of-type {\n",
       "        vertical-align: middle;\n",
       "    }\n",
       "\n",
       "    .dataframe tbody tr th {\n",
       "        vertical-align: top;\n",
       "    }\n",
       "\n",
       "    .dataframe thead th {\n",
       "        text-align: right;\n",
       "    }\n",
       "</style>\n",
       "<table border=\"1\" class=\"dataframe\">\n",
       "  <thead>\n",
       "    <tr style=\"text-align: right;\">\n",
       "      <th></th>\n",
       "      <th>method</th>\n",
       "      <th>instrument</th>\n",
       "      <th>instrument-gain</th>\n",
       "      <th>action</th>\n",
       "      <th>action-gain</th>\n",
       "      <th>tissue</th>\n",
       "      <th>tissue-gain</th>\n",
       "    </tr>\n",
       "  </thead>\n",
       "  <tbody>\n",
       "    <tr>\n",
       "      <th>0</th>\n",
       "      <td>bertopic_clustering</td>\n",
       "      <td>0.52</td>\n",
       "      <td>0.00</td>\n",
       "      <td>0.45</td>\n",
       "      <td>0.00</td>\n",
       "      <td>0.42</td>\n",
       "      <td>0.00</td>\n",
       "    </tr>\n",
       "    <tr>\n",
       "      <th>1</th>\n",
       "      <td>initial_llm_clustering</td>\n",
       "      <td>0.55</td>\n",
       "      <td>0.06</td>\n",
       "      <td>0.50</td>\n",
       "      <td>0.11</td>\n",
       "      <td>0.47</td>\n",
       "      <td>0.12</td>\n",
       "    </tr>\n",
       "    <tr>\n",
       "      <th>2</th>\n",
       "      <td>final_llm_clustering</td>\n",
       "      <td>0.51</td>\n",
       "      <td>-0.02</td>\n",
       "      <td>0.49</td>\n",
       "      <td>0.09</td>\n",
       "      <td>0.57</td>\n",
       "      <td>0.36</td>\n",
       "    </tr>\n",
       "  </tbody>\n",
       "</table>\n",
       "</div>"
      ],
      "text/plain": [
       "                   method  instrument  instrument-gain  action  action-gain  \\\n",
       "0     bertopic_clustering        0.52             0.00    0.45         0.00   \n",
       "1  initial_llm_clustering        0.55             0.06    0.50         0.11   \n",
       "2    final_llm_clustering        0.51            -0.02    0.49         0.09   \n",
       "\n",
       "   tissue  tissue-gain  \n",
       "0    0.42         0.00  \n",
       "1    0.47         0.12  \n",
       "2    0.57         0.36  "
      ]
     },
     "execution_count": 89,
     "metadata": {},
     "output_type": "execute_result"
    }
   ],
   "source": [
    "clustering_coherence_df = pd.DataFrame([bertopic_clustering_metrics, initial_llm_clustering_metrics, final_llm_clustering_metrics]).round(2)\n",
    "clustering_coherence_df['instrument-gain'] = clustering_coherence_df.apply(\n",
    "    lambda row: row['instrument'] / bertopic_clustering_metrics['instrument'] - 1,\n",
    "    axis=1\n",
    ")\n",
    "clustering_coherence_df['action-gain'] = clustering_coherence_df.apply(\n",
    "    lambda row: row['action'] / bertopic_clustering_metrics['action'] - 1,\n",
    "    axis=1\n",
    ")\n",
    "clustering_coherence_df['tissue-gain'] = clustering_coherence_df.apply(\n",
    "    lambda row: row['tissue'] / bertopic_clustering_metrics['tissue'] - 1,\n",
    "    axis=1\n",
    ")\n",
    "clustering_coherence_df = clustering_coherence_df[['method', 'instrument', 'instrument-gain', 'action', 'action-gain', 'tissue', 'tissue-gain']].round(2)\n",
    "clustering_coherence_df"
   ]
  }
 ],
 "metadata": {
  "kernelspec": {
   "display_name": "firdavs",
   "language": "python",
   "name": "python3"
  },
  "language_info": {
   "codemirror_mode": {
    "name": "ipython",
    "version": 3
   },
   "file_extension": ".py",
   "mimetype": "text/x-python",
   "name": "python",
   "nbconvert_exporter": "python",
   "pygments_lexer": "ipython3",
   "version": "3.12.8"
  }
 },
 "nbformat": 4,
 "nbformat_minor": 5
}
